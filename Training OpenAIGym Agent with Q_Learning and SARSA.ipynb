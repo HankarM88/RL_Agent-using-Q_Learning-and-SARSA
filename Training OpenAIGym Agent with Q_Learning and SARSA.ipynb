{
 "cells": [
  {
   "cell_type": "markdown",
   "metadata": {
    "colab_type": "text",
    "id": "G2dA0ZNNyrRm"
   },
   "source": [
    "## Import Dependencies "
   ]
  },
  {
   "cell_type": "code",
   "execution_count": 2,
   "metadata": {
    "colab": {},
    "colab_type": "code",
    "id": "sGMYG6HjJ4bh"
   },
   "outputs": [],
   "source": [
    "from IPython.display import clear_output\n",
    "from time import sleep\n",
    "import random\n",
    "import gym\n",
    "import itertools \n",
    "import matplotlib.pyplot as plt  \n",
    "import matplotlib.style \n",
    "import numpy as np \n",
    "import pandas as pd \n",
    "import sys "
   ]
  },
  {
   "cell_type": "markdown",
   "metadata": {
    "colab_type": "text",
    "id": "bcZlKqfJy7vf"
   },
   "source": [
    "### Load the Envirenement "
   ]
  },
  {
   "cell_type": "code",
   "execution_count": 3,
   "metadata": {
    "colab": {
     "base_uri": "https://localhost:8080/",
     "height": 163
    },
    "colab_type": "code",
    "id": "cMvmVBIXKJq0",
    "outputId": "533dee21-bfa3-4dc7-cd8b-807dfa94a13d"
   },
   "outputs": [
    {
     "name": "stdout",
     "output_type": "stream",
     "text": [
      "+---------+\n",
      "|\u001b[34;1mR\u001b[0m: | : :G|\n",
      "| :\u001b[43m \u001b[0m| : : |\n",
      "| : : : : |\n",
      "| | : | : |\n",
      "|Y| : |\u001b[35mB\u001b[0m: |\n",
      "+---------+\n",
      "\n"
     ]
    }
   ],
   "source": [
    "#showing the envirenement\n",
    "env = gym.make(\"Taxi-v3\")\n",
    "#pour afficher notre envirenement\n",
    "env.render()"
   ]
  },
  {
   "cell_type": "markdown",
   "metadata": {
    "colab_type": "text",
    "id": "fVtccWPBzh3v"
   },
   "source": [
    "## Initialize the Envirenement "
   ]
  },
  {
   "cell_type": "code",
   "execution_count": 4,
   "metadata": {
    "colab": {
     "base_uri": "https://localhost:8080/",
     "height": 199
    },
    "colab_type": "code",
    "id": "n_f3CS2TKhVd",
    "outputId": "4ffd8ba9-123e-4e1f-af7d-3c622184a476"
   },
   "outputs": [
    {
     "name": "stdout",
     "output_type": "stream",
     "text": [
      "+---------+\n",
      "|\u001b[35mR\u001b[0m: | : :\u001b[34;1mG\u001b[0m|\n",
      "| : | : : |\n",
      "| : : :\u001b[43m \u001b[0m: |\n",
      "| | : | : |\n",
      "|Y| : |B: |\n",
      "+---------+\n",
      "\n",
      "Action Space : 6\n",
      "State Space : 500\n"
     ]
    }
   ],
   "source": [
    "# initializing the envirenement \n",
    "env.reset() # reset environment to a new, random state\n",
    "env.render()\n",
    "# Show action space and state space \n",
    "print(\"Action Space :\", env.action_space.n)\n",
    "print(\"State Space :\", env.observation_space.n)"
   ]
  },
  {
   "cell_type": "markdown",
   "metadata": {
    "colab_type": "text",
    "id": "ZFEPQcd1z59J"
   },
   "source": [
    "## Building the Random Agent"
   ]
  },
  {
   "cell_type": "code",
   "execution_count": 5,
   "metadata": {
    "colab": {
     "base_uri": "https://localhost:8080/",
     "height": 54
    },
    "colab_type": "code",
    "id": "0kJ8uTPTKsV_",
    "outputId": "41db9192-8b9c-41c3-d885-9d4cb197a572"
   },
   "outputs": [
    {
     "name": "stdout",
     "output_type": "stream",
     "text": [
      "Timesteps taken: 200\n",
      "Penalties: 66\n",
      "Rewards: -794\n"
     ]
    }
   ],
   "source": [
    "#Build the Random agent \n",
    "def random_agent():\n",
    "    env.s = 328\n",
    "    epochs = 0\n",
    "    penalties, reward = 0, 0\n",
    "    rewards=0\n",
    "    global frames \n",
    "    frames= []\n",
    "    done = False\n",
    "    while not done:\n",
    "        # take a random action every timestep \n",
    "        action = env.action_space.sample()\n",
    "\n",
    "        state, reward, done, info = env.step(action)\n",
    "        rewards += reward\n",
    "        if reward == -10:\n",
    "            penalties += 1\n",
    "        # Put each rendered frame into dict for animation\n",
    "        frames.append({\n",
    "        'frame': env.render(mode='ansi'),\n",
    "        'state': state,\n",
    "        'action': action,\n",
    "        'reward': reward\n",
    "        })\n",
    "        #incremente timesteps \n",
    "        epochs += 1\n",
    "        #if done==True:\n",
    "            #break\n",
    "        \n",
    "    return (epochs,penalties,rewards)\n",
    "# create an agent \n",
    "rand_agent=random_agent()\n",
    "print(\"Timesteps taken: {}\".format(rand_agent[0]))\n",
    "print(\"Penalties: {}\".format(rand_agent[1]))\n",
    "print(\"Rewards: {}\".format(rand_agent[2]))\n"
   ]
  },
  {
   "cell_type": "code",
   "execution_count": 6,
   "metadata": {},
   "outputs": [
    {
     "name": "stdout",
     "output_type": "stream",
     "text": [
      "+---------+\n",
      "|\u001b[35m\u001b[34;1m\u001b[43mR\u001b[0m\u001b[0m\u001b[0m: | : :G|\n",
      "| : | : : |\n",
      "| : : : : |\n",
      "| | : | : |\n",
      "|Y| : |B: |\n",
      "+---------+\n",
      "  (Dropoff)\n",
      "\n",
      "Timestep: 949\n",
      "State: 0\n",
      "Action: 5\n",
      "Reward: 20\n"
     ]
    }
   ],
   "source": [
    "# Show the comportement of the ranfom agent \n",
    "for i, frame in enumerate(frames):\n",
    "    clear_output(wait=True)\n",
    "    print(frame['frame'])\n",
    "    print(f\"Timestep: {i + 1}\")\n",
    "    print(f\"State: {frame['state']}\")\n",
    "    print(f\"Action: {frame['action']}\")\n",
    "    print(f\"Reward: {frame['reward']}\")\n",
    "    sleep(.1)\n",
    "        "
   ]
  },
  {
   "cell_type": "markdown",
   "metadata": {},
   "source": [
    "### Initializing Q_Table with Zeros "
   ]
  },
  {
   "cell_type": "code",
   "execution_count": 6,
   "metadata": {},
   "outputs": [
    {
     "name": "stdout",
     "output_type": "stream",
     "text": [
      "[[0. 0. 0. 0. 0. 0.]\n",
      " [0. 0. 0. 0. 0. 0.]\n",
      " [0. 0. 0. 0. 0. 0.]\n",
      " ...\n",
      " [0. 0. 0. 0. 0. 0.]\n",
      " [0. 0. 0. 0. 0. 0.]\n",
      " [0. 0. 0. 0. 0. 0.]]\n",
      "(500, 6)\n"
     ]
    }
   ],
   "source": [
    "#showing the q-table and initilize it with zeros \n",
    "\n",
    "action_space=env.action_space.n\n",
    "observation_space =env.observation_space.n\n",
    "qtable = np.zeros((observation_space, action_space))\n",
    "print(qtable)\n",
    "#show the intialized Q-Table\n",
    "print(qtable.shape)"
   ]
  },
  {
   "cell_type": "markdown",
   "metadata": {
    "colab_type": "text",
    "id": "Gf5kLxaF0ccI"
   },
   "source": [
    "## Training the Q-Learning Agent"
   ]
  },
  {
   "cell_type": "code",
   "execution_count": 7,
   "metadata": {
    "colab": {
     "base_uri": "https://localhost:8080/",
     "height": 417
    },
    "colab_type": "code",
    "id": "63j2Eh3UNTNC",
    "outputId": "ec28d8fe-1dde-4c15-dd30-1571c05e956a"
   },
   "outputs": [],
   "source": [
    "# Define Hyperparameters\n",
    "alpha = 0.1 #Learning rate \n",
    "gamma = 0.6 #discount factor \n",
    "epsilon = 1.0 #epslion for greedy policy \n",
    "max_epsilon=1.0 #max epsilon \n",
    "min_epsilon = 0.01 #min value \n",
    "epsilon_decay= 0.05 # decaying epsilon after exploration \n",
    "total_episodes =10000 #number of episodes to train our agent \n",
    "# Build Q-Learning agent \n",
    "def qlearning_agent(alpha, gamma,epsilon,max_epsilon,min_epsilon,epsilon_decay,total_episodes):\n",
    "    epochs,rewards,penalties ,episodes =0,0,0,0\n",
    "    for i in range(total_episodes):\n",
    "        state = env.reset()\n",
    "        done = False\n",
    "        while not done:\n",
    "            if random.uniform(0, 1) < epsilon:\n",
    "                action = env.action_space.sample() # Exploration \n",
    "            else:\n",
    "                action = np.argmax(qtable[state]) # Exploitation \n",
    "\n",
    "            next_state, reward, done, info = env.step(action) \n",
    "            rewards+=reward \n",
    "            old_value = qtable[state, action]\n",
    "            next_max = np.max(qtable[next_state])\n",
    "\n",
    "           # Bellman equation for updating q values :\n",
    "            qtable[state, action] = (1 - alpha) * old_value + alpha * (reward + gamma * next_max)\n",
    "            #pass to next state \n",
    "            state = next_state\n",
    "            #grab penalties \n",
    "            if reward ==-10:\n",
    "                penalties += 1\n",
    "            epochs += 1\n",
    "\n",
    "            if done==True:\n",
    "                break\n",
    "        #decaying epsilon to do less exploration :\n",
    "        epsilon = min_epsilon + (max_epsilon - min_epsilon)*np.exp(-epsilon_decay*i)\n",
    "\n",
    "    return qtable"
   ]
  },
  {
   "cell_type": "code",
   "execution_count": 15,
   "metadata": {},
   "outputs": [
    {
     "name": "stdout",
     "output_type": "stream",
     "text": [
      "Training the agent is Finished within 10000 \n",
      "\n",
      "Q Table after Training the Q learning agent:\n",
      " \n",
      "[[  0.           0.           0.           0.           0.\n",
      "    0.        ]\n",
      " [  1.67740461   2.79336047   2.72785926  -3.77197633   5.20997639\n",
      "  -11.25552235]\n",
      " [  7.17534318   7.74300174   7.89840805   9.15501947  10.9512375\n",
      "    0.28451338]\n",
      " ...\n",
      " [ -1.19899269  12.5800962   -1.19899269  -1.22734628  -1.96\n",
      "   -3.53582637]\n",
      " [ -2.82999637  -2.85315946  -2.82999637  -3.01835777  -2.8816\n",
      "   -2.85891633]\n",
      " [ 13.65827276   1.29468472  13.70298742  17.99999943   4.22871544\n",
      "    4.84052276]]\n",
      "(500, 6)\n"
     ]
    }
   ],
   "source": [
    "q_table=qlearning_agent(alpha, gamma,epsilon,max_epsilon,min_epsilon,epsilon_decay,total_episodes)\n",
    "print(\"Training the agent is Finished within {} \\n\".format(total_episodes))\n",
    "#show the q_table \n",
    "print(\"Q Table after Training the Q learning agent:\\n \")\n",
    "print(q_table)\n",
    "print(q_table.shape)      "
   ]
  },
  {
   "cell_type": "markdown",
   "metadata": {
    "colab_type": "text",
    "id": "oI8HHg5Y0nxl"
   },
   "source": [
    "## Test the Q_Learning Agent after Training"
   ]
  },
  {
   "cell_type": "code",
   "execution_count": 16,
   "metadata": {
    "colab": {
     "base_uri": "https://localhost:8080/",
     "height": 72
    },
    "colab_type": "code",
    "id": "s0KScgyizp93",
    "outputId": "227aaf90-bee6-4703-b6c9-00ea504783fb"
   },
   "outputs": [
    {
     "name": "stdout",
     "output_type": "stream",
     "text": [
      "Total rewards per episode : 7.79\n",
      "Total penalties per episode : 0.0\n",
      "total timesteps per episode : 13.21\n"
     ]
    }
   ],
   "source": [
    "# Testing the Q learning agent within the 100 episodes \n",
    "total_epochs, total_penalties,reward =0, 0, 0\n",
    "qlearning_rewards=[]\n",
    "episodes = 100\n",
    "#go through 100 episodes \n",
    "for i in range(episodes):\n",
    "    state = env.reset()\n",
    "    epochs, penalties, rewards = 0, 0, 0\n",
    "    done = False\n",
    "    while not done:\n",
    "        action = np.argmax(q_table[state])\n",
    "        state, reward, done, info = env.step(action)\n",
    "        rewards+=reward\n",
    "        if reward == -10:\n",
    "            penalties += 1\n",
    "\n",
    "        epochs += 1\n",
    "        \n",
    "        if done==True:\n",
    "            break\n",
    "    qlearning_rewards.append(rewards)\n",
    "    total_penalties += penalties\n",
    "    total_epochs += epochs\n",
    "#showing the results \n",
    "print(\"Total rewards per episode :\" , sum(qlearning_rewards)/100)\n",
    "print(\"Total penalties per episode :\" , penalties/100)\n",
    "print(\"total timesteps per episode :\" , total_epochs/100)"
   ]
  },
  {
   "cell_type": "code",
   "execution_count": 17,
   "metadata": {},
   "outputs": [
    {
     "name": "stdout",
     "output_type": "stream",
     "text": [
      "[4, 8, 9, 5, 5, 9, 8, 4, 10, 8, 8, 12, 4, 11, 12, 9, 13, 4, 3, 4, 10, 6, 5, 13, 9, 9, 10, 10, 8, 13, 7, 9, 5, 3, 8, 9, 8, 5, 4, 9, 4, 10, 9, 10, 11, 8, 6, 4, 10, 4, 6, 9, 10, 9, 11, 6, 6, 4, 9, 9, 7, 11, 8, 15, 6, 7, 10, 5, 8, 6, 5, 11, 8, 6, 7, 7, 5, 8, 11, 11, 11, 10, 5, 8, 11, 6, 6, 4, 12, 6, 3, 8, 10, 10, 12, 5, 5, 6, 9, 5]\n"
     ]
    }
   ],
   "source": [
    "print(qlearning_rewards)"
   ]
  },
  {
   "cell_type": "markdown",
   "metadata": {},
   "source": [
    "### Training  SARSA  Agent "
   ]
  },
  {
   "cell_type": "code",
   "execution_count": 10,
   "metadata": {},
   "outputs": [
    {
     "name": "stdout",
     "output_type": "stream",
     "text": [
      "Q_table after training \n",
      ": [[  0.           0.           0.           0.           0.\n",
      "    0.        ]\n",
      " [-64.38017183 -71.94492412 -63.69131045 -62.03507932 -68.18052858\n",
      "  -66.52484213]\n",
      " [-52.7678214  -56.61157335 -72.80776059 -52.99884093 -55.55909851\n",
      "  -65.63037646]\n",
      " ...\n",
      " [-60.65068242 -52.64676924 -74.14994062 -50.70798084 -63.53208465\n",
      "  -65.83420734]\n",
      " [-67.76424664 -60.00914821 -55.71693166 -55.76085138 -75.36032565\n",
      "  -61.27920336]\n",
      " [-45.10605881 -61.59428488 -51.83743287   8.00340082 -53.99158949\n",
      "  -50.70972254]]\n"
     ]
    }
   ],
   "source": [
    "# traing SARSA agent \n",
    "#Defining the different parameters \n",
    "epsilon = 0.9\n",
    "total_episodes = 10000\n",
    "max_steps = 100 # max timesteps per episode\n",
    "alpha = 0.85\n",
    "gamma = 0.95\n",
    "reward=0\n",
    "epochs=0\n",
    "max_steps=100\n",
    "#Initializing the Q-matrix \n",
    "s_table = np.zeros((env.observation_space.n, env.action_space.n)) \n",
    "#Function to choose the next action \n",
    "def choose_action(state): \n",
    "    action=0\n",
    "    if np.random.uniform(0, 1) < epsilon: \n",
    "        action = env.action_space.sample() \n",
    "    else: \n",
    "        action = np.argmax(s_table[state, :]) \n",
    "    return action \n",
    "  \n",
    "#Function to learn the Q-value \n",
    "def update(state, state2, reward, action, action2): \n",
    "    target = reward + gamma * s_table[state2, action2] \n",
    "    s_table[state, action] = s_table[state, action] + alpha * (target - s_table[state, action]) \n",
    "\n",
    "#Initializing the reward \n",
    "# Starting the SARSA learning\n",
    "for episode in range(total_episodes): \n",
    "    current_state = env.reset() \n",
    "    current_action = choose_action(current_state)\n",
    "    t=0\n",
    "    while t<max_steps: \n",
    "        #Getting the next state \n",
    "        next_state, reward, done, info = env.step(current_action) \n",
    "        #Choosing the next action \n",
    "        next_action = choose_action(next_state) \n",
    "        #Learning the Q-value \n",
    "        update(current_state, next_state, reward, current_action, next_action) \n",
    "\n",
    "        current_state = next_state \n",
    "        current_action = next_action \n",
    "\n",
    "        #Updating the respective vaLues \n",
    "        t += 1\n",
    "        #If at the end of learning process \n",
    "        if done==True: \n",
    "            break\n",
    "print(\"Q_table after training \\n:\",s_table)\n"
   ]
  },
  {
   "cell_type": "markdown",
   "metadata": {},
   "source": [
    "### Testing SARSA  Agent "
   ]
  },
  {
   "cell_type": "code",
   "execution_count": 11,
   "metadata": {},
   "outputs": [
    {
     "name": "stdout",
     "output_type": "stream",
     "text": [
      "Total rewards per episode : -271.28\n",
      "Total penalties per episode : 0.0\n",
      "total timesteps per episode : 200.0\n"
     ]
    }
   ],
   "source": [
    "#Testing the agent \n",
    "# Testing the Q learning agent within the 100 episodes \n",
    "total_epochs, total_penalties,reward =0, 0, 0\n",
    "sarsa_rewards=[]\n",
    "episodes = 100\n",
    "#go through 100 episodes \n",
    "for i in range(episodes):\n",
    "    state = env.reset()\n",
    "    epochs, penalties, rewards = 0, 0, 0\n",
    "    done = False\n",
    "    while not done:\n",
    "        action = np.argmax(s_table[state])\n",
    "        state, reward, done, info = env.step(action)\n",
    "        rewards+=reward\n",
    "        if reward == -10:\n",
    "            penalties += 1\n",
    "\n",
    "        epochs += 1\n",
    "        \n",
    "        if done==True:\n",
    "            break\n",
    "    sarsa_rewards.append(rewards)\n",
    "    total_penalties += penalties\n",
    "    total_epochs += epochs\n",
    "#showing the results \n",
    "print(\"Total rewards per episode :\" , sum(sarsa_rewards)/100)\n",
    "print(\"Total penalties per episode :\" , penalties/100)\n",
    "print(\"total timesteps per episode :\" , total_epochs/100)"
   ]
  },
  {
   "cell_type": "markdown",
   "metadata": {},
   "source": [
    "## Test the Random Agent for Comparison "
   ]
  },
  {
   "cell_type": "code",
   "execution_count": 27,
   "metadata": {
    "colab": {
     "base_uri": "https://localhost:8080/",
     "height": 72
    },
    "colab_type": "code",
    "id": "DnWgCAETLdZh",
    "outputId": "f75bf8e6-4785-43b3-f388-cf2c696b1a62"
   },
   "outputs": [
    {
     "name": "stdout",
     "output_type": "stream",
     "text": [
      "Total Rewards per episode : -750.74\n",
      " Total Penalties per episode : 0.73\n",
      " Taken Timesteps per episode : 2.0\n"
     ]
    }
   ],
   "source": [
    "#Testing the random agent within the 100 episodes \n",
    "total_epochs, total_penalties , reward = 0, 0, 0\n",
    "random_rewards=[]\n",
    "episodes = 100\n",
    "for i in range(episodes):\n",
    "    state = env.reset()\n",
    "    epochs, penalties, r_rewards = 0, 0, 0\n",
    "    done = False\n",
    "    while not done:\n",
    "        action = env.action_space.sample()\n",
    "        state, reward, done, info = env.step(action)\n",
    "        r_rewards+=reward\n",
    "        if reward == -10:\n",
    "            penalties += 1\n",
    "        epochs += 1\n",
    "        \n",
    "        if done==True:\n",
    "            break    \n",
    "    random_rewards.append(r_rewards)\n",
    "    total_penalties += penalties\n",
    "    total_epochs += epochs\n",
    "# showing the results \n",
    "print(\"Total Rewards per episode :\" ,sum(random_rewards)/100)\n",
    "print(\" Total Penalties per episode :\" , penalties/100)\n",
    "print(\" Taken Timesteps per episode :\", epochs/100)"
   ]
  },
  {
   "cell_type": "code",
   "execution_count": 30,
   "metadata": {},
   "outputs": [
    {
     "name": "stdout",
     "output_type": "stream",
     "text": [
      "[-785, -821, -857, -280, -713, -704, -740, -839, -526, -749, -704, -830, -641, -785, -785, -740, -767, -848, -794, -605, -785, -776, -803, -767, -812, -893, -812, -740, -839, -749, -767, -758, -722, -785, -740, -704, -722, -785, -776, -695, -456, -632, -704, -749, -740, -875, -821, -713, -884, -821, -749, -695, -776, -830, -686, -839, -767, -740, -821, -803, -848, -683, -830, -839, -740, -704, -668, -857, -731, -677, -749, -776, -201, -704, -794, -848, -812, -668, -713, -884, -758, -812, -740, -704, -821, -659, -749, -821, -821, -650, -821, -857, -677, -740, -704, -812, -767, -758, -776, -857]\n"
     ]
    },
    {
     "data": {
      "text/plain": [
       "100"
      ]
     },
     "execution_count": 30,
     "metadata": {},
     "output_type": "execute_result"
    }
   ],
   "source": [
    "print(random_rewards)\n",
    "len(random_rewards)"
   ]
  },
  {
   "cell_type": "markdown",
   "metadata": {
    "colab_type": "text",
    "id": "ocwgxa96q0wN"
   },
   "source": [
    "## Visualisation :\n",
    "   #### A: Q-Learning Agent \n",
    "\n"
   ]
  },
  {
   "cell_type": "code",
   "execution_count": 18,
   "metadata": {
    "colab": {
     "base_uri": "https://localhost:8080/",
     "height": 424
    },
    "colab_type": "code",
    "id": "wSRmRM5mEVmR",
    "outputId": "a939f1c9-5d04-4125-e144-83b2b8fa7407"
   },
   "outputs": [
    {
     "data": {
      "image/png": "[encoded data removed]",
      "text/plain": [
       "<Figure size 720x432 with 1 Axes>"
      ]
     },
     "metadata": {
      "needs_background": "light"
     },
     "output_type": "display_data"
    }
   ],
   "source": [
    "#define a function to compute cummulative rewards \n",
    "def cumulative_sum(lst):\n",
    "    total, result = 0, []\n",
    "    for ele in lst:\n",
    "        result.append(total)\n",
    "        total += ele\n",
    "    return result\n",
    "#get a list of 100 episodes  \n",
    "episodes =[episode for episode in range(episodes)]\n",
    "# plot the results \n",
    "cummulative_qlearning_rewards=cumulative_sum(qlearning_rewards)\n",
    "plt.figure(figsize=(10,6))\n",
    "plt.plot(episodes,cummulative_qlearning_rewards, label=\"Q_learning Agent\",color='blue')\n",
    "plt.ylabel(\"Rewards \")\n",
    "plt.xlabel(\"Episodes\")\n",
    "plt.legend()\n",
    "plt.savefig('Q_Learning_agent')"
   ]
  },
  {
   "cell_type": "markdown",
   "metadata": {
    "colab_type": "text",
    "id": "27vp89CLRr2i"
   },
   "source": [
    "As the plot shows above, the Q-Learning agent, during the test phase behaved very well. The results above shows that the Q-Learning agent is always improving in terms of rewards. The agent learned to choose the right path to take by reducing the number of steps to make a good passenger depot. This means that the agent learns from his environment."
   ]
  },
  {
   "cell_type": "markdown",
   "metadata": {},
   "source": [
    "#### B:SARSA  Agent "
   ]
  },
  {
   "cell_type": "code",
   "execution_count": 20,
   "metadata": {},
   "outputs": [
    {
     "data": {
      "image/png": "[encoded data removed]",
      "text/plain": [
       "<Figure size 720x432 with 1 Axes>"
      ]
     },
     "metadata": {
      "needs_background": "light"
     },
     "output_type": "display_data"
    }
   ],
   "source": [
    "# Define a function that will cummulate rewards \n",
    "cummulative_sarsa_rewards=cumulative_sum(sarsa_rewards)\n",
    "plt.figure(figsize=(10,6))\n",
    "plt.plot(episodes,cummulative_sarsa_rewards, label=\"SARSA Agent\",color='green')\n",
    "plt.ylabel(\"Rewards \")\n",
    "plt.xlabel(\"Episodes\")\n",
    "plt.legend()\n",
    "plt.savefig('SARSA_agent')"
   ]
  },
  {
   "cell_type": "markdown",
   "metadata": {
    "colab_type": "text",
    "id": "IrjOhj4h4kr6"
   },
   "source": [
    "#### B: Random Agent :"
   ]
  },
  {
   "cell_type": "code",
   "execution_count": 31,
   "metadata": {
    "colab": {
     "base_uri": "https://localhost:8080/",
     "height": 424
    },
    "colab_type": "code",
    "id": "SqizNhEb4qm5",
    "outputId": "9aa55f0d-aa04-4338-8828-ed9c39766259"
   },
   "outputs": [
    {
     "data": {
      "image/png": "[encoded data removed]",
      "text/plain": [
       "<Figure size 720x432 with 1 Axes>"
      ]
     },
     "metadata": {
      "needs_background": "light"
     },
     "output_type": "display_data"
    }
   ],
   "source": [
    "# Define a function that will cummulate rewards \n",
    "cummulative_random_rewards=cumulative_sum(random_rewards)\n",
    "episodes =[episode for episode in range(episodes)]\n",
    "plt.figure(figsize=(10,6))\n",
    "plt.plot(episodes,cummulative_random_rewards, label=\"Random Agent\",color='red')\n",
    "plt.ylabel(\"Rewards \")\n",
    "plt.xlabel(\"Episodes\")\n",
    "plt.legend()\n",
    "plt.savefig('random_agent')"
   ]
  },
  {
   "cell_type": "markdown",
   "metadata": {
    "colab_type": "text",
    "id": "Ra3fNqGCRYj4"
   },
   "source": [
    "We note that, from the graph above, when the agent behaves randomly, he receives only penalties, after each action taken. The agent's behavior decreases after each movement he takes . We see as a result at the end of the test phase that the agent cummulated a lot of penalties."
   ]
  },
  {
   "cell_type": "markdown",
   "metadata": {
    "colab_type": "text",
    "id": "NJvS2xvfR-EM"
   },
   "source": [
    "\n"
   ]
  }
 ],
 "metadata": {
  "colab": {
   "collapsed_sections": [],
   "name": "qLearningAgent_greedy.ipynb",
   "provenance": [],
   "toc_visible": true
  },
  "kernelspec": {
   "display_name": "Python 3",
   "language": "python",
   "name": "python3"
  },
  "language_info": {
   "codemirror_mode": {
    "name": "ipython",
    "version": 3
   },
   "file_extension": ".py",
   "mimetype": "text/x-python",
   "name": "python",
   "nbconvert_exporter": "python",
   "pygments_lexer": "ipython3",
   "version": "3.7.6"
  }
 },
 "nbformat": 4,
 "nbformat_minor": 1
}
